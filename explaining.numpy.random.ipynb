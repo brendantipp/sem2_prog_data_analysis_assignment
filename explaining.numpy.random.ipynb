{
 "cells": [
  {
   "cell_type": "markdown",
   "metadata": {},
   "source": [
    "#### Brendan Ryan GMIT\n",
    "#### Semester 2 - Assignment for Programming for Data Analysis.\n",
    "#### November 2020\n",
    "\n",
    "\n",
    "# Explain the use and purpose of the numpy.random package\n"
   ]
  },
  {
   "cell_type": "markdown",
   "metadata": {},
   "source": [
    "In this Jupyter notebook I will give an overview of the following \n",
    "didnt use scipy and why"
   ]
  },
  {
   "cell_type": "markdown",
   "metadata": {},
   "source": [
    "### 1. Overview of the numpy.random package\n",
    "\n",
    "#### Lets start by explaining what  Numpy is,  its purpose,  and why we use it\n",
    "\n",
    "NumPy is a python library used for working with arrays, it was created in 2005 by Travis Oliphant. It is an open source project and you can use if freely, NumPy stands for Numerical Python.\n",
    "\n",
    "NumPy is the fundamental package for scientific computing in Python. It is a Python library that provides a multidimensional array object, various derived objects (such as masked arrays and matrices), and an assortment of routines for fast operations on arrays, including mathematical, logical, shape manipulation, sorting, selecting, I/O, discrete Fourier transforms, basic linear algebra, basic statistical operations, random simulation and much more. \n",
    "\n",
    "At the core of the NumPy package, is the ndarray object. This encapsulates n-dimensional arrays of homogeneous data types, with many operations being performed in compiled code for performance source - - source https://docs.scipy.org/doc/numpy-1.15.1/user/whatisnumpy.html\n",
    "\n",
    "###### Why we use Numpy \"its quick and efficient\"- \n",
    "In python we have lists that server the purpose of arrays, however are slow to proecss - Numpy aims to providig an array object that is 50 times faster than traditional python lists and is more efficient !!! NumPy arrays are store in one continous place in memory and Numpy lists are optimized to work with the latest CPU achitectures.\n",
    "\n",
    "W3schools.com gives an nice easy explanation https://www.w3schools.com/python/numpy_intro.asp\n"
   ]
  },
  {
   "cell_type": "code",
   "execution_count": 1,
   "metadata": {},
   "outputs": [
    {
     "name": "stdout",
     "output_type": "stream",
     "text": [
      "1.18.5\n"
     ]
    }
   ],
   "source": [
    "#we can import the numpy module as follows using np to give a shortened name to the package for ease of use\n",
    "import numpy as np\n",
    "print (np.version.version)"
   ]
  },
  {
   "cell_type": "markdown",
   "metadata": {},
   "source": [
    "#### Tell me more about the numpy.random package \n",
    "\n",
    "NumPy offers the random module to work with random numbers - numpy.random is a subpackage of Numpy and is available in the numpy library. We use Numpy.random when we want to generate simulated random data, (pretend data) very useful to progammers when they want to generate some random numbers that follow a certain pattern and also to test their code.\n",
    "\n",
    "The Numpy.random module contains the functions which are used for generarting random numbers. The module contains some simple random data generation methods, some premutation and distribution functions , and random generator functions."
   ]
  },
  {
   "cell_type": "markdown",
   "metadata": {},
   "source": [
    "There have been some very important updates to the Numpy.Random package in the last 12 months and these changes are particualt important for software developers to keep up to date with - more details on this change is contained in the README\n",
    "\n",
    "References and Research:\n",
    "\n",
    "- https://docs.scipy.org/doc/numpy-1.15.1/user/whatisnumpy.html\n",
    "- https://numpy.org/devdocs/reference/random/generator.html#numpy.random.default_rng\n",
    "- https://numpy.org/doc/stable/reference/random/index.html?highlight=random%20sampling%20numpy%20random#module-numpy.random\n",
    "- https://www.javatpoint.com/numpy-random\n",
    "- https://realpython.com/python-random"
   ]
  },
  {
   "cell_type": "markdown",
   "metadata": {},
   "source": [
    "## Explain the use of the \"Simple random data\" and \"Permutations\" functions"
   ]
  },
  {
   "cell_type": "markdown",
   "metadata": {},
   "source": [
    "Within the numpy.random subpackage there are a number of functions and these can be broken down into Simple Random Data functions, Permutations funcitons, Distribution functions and Seed functions.\n",
    "\n",
    "### Simple random data functions\n",
    "\n",
    "There are 4 Simple Random Data Functions. \n",
    "\n",
    "- integers - allows us to define a sequences and arrays of integers\n",
    "- random - return random floats between 0.0 and 1.0\n",
    "- choice - to generate a random sample from a given 1 dimensioanl arary\n",
    "- bytes - to reutrn random bytes\n",
    "\n",
    "It is worth noting the simple random data functions have been revised and condensed in the newer version of the numpy.random package.\n",
    "\n",
    "Reference - https://numpy.org/doc/stable/reference/random/generator.html#numpy.random.Generator\n",
    "\n",
    "I will now take a look at the use of each one:"
   ]
  },
  {
   "cell_type": "markdown",
   "metadata": {},
   "source": [
    "##### Using the integers function\n",
    "- format - integers(low[, high, size, dtype, endpoint])\n",
    "- escription - Return random integers from low (inclusive) to high (exclusive), or if endpoint=True, low (inclusive) to high (inclusive).\n",
    "\n",
    "https://numpy.org/doc/stable/reference/random/generated/numpy.random.Generator.integers.html#numpy.random.Generator.integers"
   ]
  },
  {
   "cell_type": "markdown",
   "metadata": {},
   "source": [
    "#### First Initialize np.random.default_rng()\n",
    "\n",
    "Best practice in Numpy v1.19 is to use Random Generator. The Generator provides access to a wide range of distributions, and served as a replacement for RandomState. The function numpy.random.default_rng will instantiate a Generator with numpy’s default BitGenerator as shown below."
   ]
  },
  {
   "cell_type": "code",
   "execution_count": 2,
   "metadata": {},
   "outputs": [],
   "source": [
    "# The function numpy.random.default_rng will instantiate a Generator with numpy’s default BitGenerator.\n",
    "# https://numpy.org/devdocs/reference/random/generator.html#numpy.random.default_rng\n",
    "rng = np.random.default_rng()"
   ]
  },
  {
   "cell_type": "code",
   "execution_count": 3,
   "metadata": {},
   "outputs": [
    {
     "data": {
      "text/plain": [
       "array([0, 4, 1, 3, 3, 3, 1, 0, 3, 2, 3, 3, 1, 3, 4, 1, 0, 3, 3, 3],\n",
       "      dtype=int64)"
      ]
     },
     "execution_count": 3,
     "metadata": {},
     "output_type": "execute_result"
    }
   ],
   "source": [
    "#i want to create a array named sample to return 20 values up to but not including 5\n",
    "sample = rng.integers(5, size =20)\n",
    "sample"
   ]
  },
  {
   "cell_type": "markdown",
   "metadata": {},
   "source": [
    "So we can see from above that in our first example that an array with 20 values (size =  20) has been created for values up to but not including 5"
   ]
  },
  {
   "cell_type": "markdown",
   "metadata": {},
   "source": [
    "We can visualise the above by using a Histogram to see how many times each integer has been returned. We are going to import the Matplotlib library for our graphs - https://matplotlib.org/"
   ]
  },
  {
   "cell_type": "code",
   "execution_count": 4,
   "metadata": {},
   "outputs": [
    {
     "data": {
      "text/plain": [
       "Text(0, 0.5, 'times appearing')"
      ]
     },
     "execution_count": 4,
     "metadata": {},
     "output_type": "execute_result"
    },
    {
     "data": {
      "image/png": "[encoded data removed]",
      "text/plain": [
       "<Figure size 432x288 with 1 Axes>"
      ]
     },
     "metadata": {
      "needs_background": "light"
     },
     "output_type": "display_data"
    }
   ],
   "source": [
    "# import the matplotlib library and display the graph\n",
    "%matplotlib inline\n",
    "import matplotlib.pyplot as plt\n",
    "#plot the array generated\n",
    "plt.hist(sample)\n",
    "#give the histogram its title and labels \n",
    "plt.title(\"sample data\")\n",
    "plt.xlabel(\"value\")\n",
    "plt.ylabel(\"times appearing\")"
   ]
  },
  {
   "cell_type": "code",
   "execution_count": 5,
   "metadata": {},
   "outputs": [
    {
     "data": {
      "text/plain": [
       "array([[1, 0, 2, 4, 3, 4, 2, 4, 0, 0, 0, 1, 0, 3, 4, 2, 4, 1, 2, 3],\n",
       "       [3, 0, 4, 4, 4, 4, 4, 0, 4, 3, 0, 1, 4, 1, 4, 4, 0, 2, 4, 1]],\n",
       "      dtype=int64)"
      ]
     },
     "execution_count": 5,
     "metadata": {},
     "output_type": "execute_result"
    }
   ],
   "source": [
    "# we are going to add a tuple of integers to the size to determine the shape\n",
    "#below we want to retun to arrays containing 20 values\n",
    "sample = rng.integers(5,size =(2,20))\n",
    "sample"
   ]
  },
  {
   "cell_type": "markdown",
   "metadata": {},
   "source": [
    "And now what I have is a multidimentional array with 2 arrays containing 20 values/elements"
   ]
  },
  {
   "cell_type": "code",
   "execution_count": 6,
   "metadata": {},
   "outputs": [
    {
     "data": {
      "text/plain": [
       "array([[37, 16, 37, 38, 79, 73, 71, 86, 63, 30, 80, 72, 15, 53, 88, 93,\n",
       "        47, 74, 38, 98],\n",
       "       [36, 54, 24, 39, 36, 61, 58, 69, 73, 73, 94, 90, 77, 37, 35, 12,\n",
       "        74, 90, 57, 95]], dtype=int64)"
      ]
     },
     "execution_count": 6,
     "metadata": {},
     "output_type": "execute_result"
    }
   ],
   "source": [
    "#speicify the low and high values of the sample data i want generatede\n",
    "sample = rng.integers(low=10,high=100,size =(2,20))\n",
    "sample"
   ]
  },
  {
   "cell_type": "markdown",
   "metadata": {},
   "source": [
    "What I have done is specified the low and high numbers that of the sample data i want generated - from 10 to 100 not including 1000, becuase i have not passed a value i can see the defualt value type is dtype=int64"
   ]
  },
  {
   "cell_type": "markdown",
   "metadata": {},
   "source": [
    "#####  Using the random function\n",
    "- Format of function - random([size, dtype, out])\n",
    "- Description of parameters - Return random floats in the half-open interval [0.0, 1.0)\n",
    "\n",
    "https://numpy.org/doc/stable/reference/random/generated/numpy.random.Generator.random.html#numpy.random.Generator.random"
   ]
  },
  {
   "cell_type": "code",
   "execution_count": 7,
   "metadata": {},
   "outputs": [
    {
     "name": "stdout",
     "output_type": "stream",
     "text": [
      "0.8654166833295139\n"
     ]
    },
    {
     "data": {
      "text/plain": [
       "float"
      ]
     },
     "execution_count": 7,
     "metadata": {},
     "output_type": "execute_result"
    }
   ],
   "source": [
    "# if passed no value will return a random floating number between 0.0 and 1.00\n",
    "sample = rng.random()\n",
    "print (sample)\n",
    "#we can see the class for the value returned by using the folowing \n",
    "type(sample)"
   ]
  },
  {
   "cell_type": "code",
   "execution_count": 8,
   "metadata": {},
   "outputs": [
    {
     "name": "stdout",
     "output_type": "stream",
     "text": [
      "[0.18192666 0.22884406 0.01122702 0.73760651 0.82617574 0.85291347\n",
      " 0.70616909 0.06368882 0.51066304 0.98305014]\n"
     ]
    }
   ],
   "source": [
    "# we can determine the size of the array returned by using the size parameter in this case we want 10 values returned\n",
    "sample = rng.random(10)\n",
    "print (sample)"
   ]
  },
  {
   "cell_type": "markdown",
   "metadata": {},
   "source": [
    "#####  Using the Choice function \n",
    "- format - choice(a[, size, replace, p, axis, shuffle])\n",
    "- Description of parameters - Generates a random sample from a given 1-D array\n",
    "- Purpose - Generates a random sample from a given 1-D array\n",
    "\n",
    "https://numpy.org/doc/stable/reference/random/generated/numpy.random.Generator.choice.html#numpy.random.Generator.choice"
   ]
  },
  {
   "cell_type": "markdown",
   "metadata": {},
   "source": [
    "So here I will generate a random sample of 6 values (size =6) from the range 43 0-42 not inclusive of 43\n",
    "The return will be a uniform random sample - i could use this if I wanted to pick 6 numbers in the lotto from 42 numbers\n",
    "In this example it is very important to pass the false parameter to replaece as we dont want the same number appearing twice!"
   ]
  },
  {
   "cell_type": "code",
   "execution_count": 9,
   "metadata": {},
   "outputs": [
    {
     "data": {
      "text/plain": [
       "array([14, 10, 30, 36,  8, 31], dtype=int64)"
      ]
     },
     "execution_count": 9,
     "metadata": {},
     "output_type": "execute_result"
    }
   ],
   "source": [
    "#range up to 43 and return 6 values each to appear only once \n",
    "rng.choice(43,size = 6, replace=False)"
   ]
  },
  {
   "cell_type": "markdown",
   "metadata": {},
   "source": [
    "I can also define the  p parameter  to create a non uniform sample - defining p defines the probability of the numbers appering in my output (note the probabilities defined need to sum to 1, in example below I want the return to be two values up to but not including 6"
   ]
  },
  {
   "cell_type": "code",
   "execution_count": 10,
   "metadata": {},
   "outputs": [
    {
     "data": {
      "text/plain": [
       "array([5, 3], dtype=int64)"
      ]
     },
     "execution_count": 10,
     "metadata": {},
     "output_type": "execute_result"
    }
   ],
   "source": [
    "rng.choice(6,size =2, p=[0.1,0.2,0.2,0.3,0.1,0.1])"
   ]
  },
  {
   "cell_type": "markdown",
   "metadata": {},
   "source": [
    "#####  Using The Bytes function\n",
    "format - bytes(length)\n",
    "desciption of parameters - Generator.bytes(length)\n",
    "Purpose - Return random bytes.\n",
    "\n",
    "https://numpy.org/doc/stable/reference/random/generated/numpy.random.Generator.bytes.html#numpy.random.Generator.bytes"
   ]
  },
  {
   "cell_type": "code",
   "execution_count": 11,
   "metadata": {},
   "outputs": [
    {
     "data": {
      "text/plain": [
       "b'3\\x95Z\\x8axi'"
      ]
     },
     "execution_count": 11,
     "metadata": {},
     "output_type": "execute_result"
    }
   ],
   "source": [
    "#so in the example below i want to create radom bytes in teh range to lenght of an integer 6\n",
    "np.random.default_rng().bytes(6)"
   ]
  },
  {
   "cell_type": "markdown",
   "metadata": {},
   "source": [
    "## Permutations Functions \n",
    "A permutation refers to an arrangement of elements for example [3,2,1] is a permutation of [1,2,3] and visa versa\n",
    "\n",
    "There are two permuation functions that are available to us\n",
    "\n",
    "- The shuffle function (https://numpy.org/doc/stable/reference/random/generated/numpy.random.Generator.shuffle.html#numpy.random.Generator.shuffle)\n",
    "\n",
    "Shuffle function - modifies a sequence in place by shuffing its contents \n",
    "\n",
    "- The permutaion function. (https://numpy.org/doc/stable/reference/random/generated/numpy.random.Generator.permutation.html#numpy.random.Generator.permutation)\n",
    "\n",
    "Permutation function - always returns a shuffed version of the original sequence"
   ]
  },
  {
   "cell_type": "markdown",
   "metadata": {},
   "source": [
    "In the example below I will use the shuffle function to change the arrangements of elements in place i.e. the array itself"
   ]
  },
  {
   "cell_type": "code",
   "execution_count": 12,
   "metadata": {},
   "outputs": [
    {
     "name": "stdout",
     "output_type": "stream",
     "text": [
      "shuffled array [4 6 5 2 1 3]\n"
     ]
    },
    {
     "data": {
      "text/plain": [
       "array([4, 6, 5, 2, 1, 3])"
      ]
     },
     "execution_count": 12,
     "metadata": {},
     "output_type": "execute_result"
    }
   ],
   "source": [
    "# The shuffle() method makes changes to the original array.\n",
    "arr1 = np.array([1, 2, 3, 4, 5,6])\n",
    "rng.shuffle(arr1)\n",
    "print(\"shuffled array\",arr1)\n",
    "#check has it made changes to original array\n",
    "arr1"
   ]
  },
  {
   "cell_type": "markdown",
   "metadata": {},
   "source": [
    "The Permutation function - Generates a random permutation of elements in an array. The original array stays unchanged as tested below"
   ]
  },
  {
   "cell_type": "code",
   "execution_count": 13,
   "metadata": {},
   "outputs": [
    {
     "name": "stdout",
     "output_type": "stream",
     "text": [
      "shuffled array [4 2 6 1 5 3]\n",
      "original array [1 2 3 4 5 6]\n"
     ]
    }
   ],
   "source": [
    "arr2 = np.array([1, 2, 3, 4, 5,6])\n",
    "print(\"shuffled array\",rng.permutation(arr2))\n",
    "#check to see is the array still in its original order \n",
    "print(\"original array\",arr2)"
   ]
  },
  {
   "cell_type": "markdown",
   "metadata": {},
   "source": [
    "As we can see from the example above the permuation function returns a shuffled return of the array but always leaves the original array in order.\n",
    "\n",
    "Other References: https://www.w3schools.com/python/numpy_random_permutation.asp"
   ]
  },
  {
   "cell_type": "markdown",
   "metadata": {},
   "source": [
    "## Task 3\n",
    "\n",
    "###  Distribution Functions - explaining the use of 5 distribution functions\n",
    "\n",
    "References and Research:\n",
    "\n",
    "- https://www.datacamp.com/community/tutorials/probability-distributions-python\n",
    "- https://www.w3schools.com/python/python_ml_data_distribution.asp\n",
    "\n",
    "<b>What is Data Distribution?</b>\n",
    "\n",
    "Data Distribution is a list of all possible values, and how often each value occurs. Such lists are important when working with statistics and data science. The numpy.random module offer methods that returns randomly generated data distributions. Distribution functions - based on differnet probability distributions - the best way to visual these distribution types are with graphs.\n",
    "\n",
    "It should be noted the Distribution funcitons in Numpy align almost exactly between the older and current version of the Numpy package."
   ]
  },
  {
   "cell_type": "markdown",
   "metadata": {},
   "source": [
    "### 1. Normal Distribution\n",
    "\n",
    "References and Research:\n",
    "\n",
    "- https://numpy.org/doc/stable/reference/random/generated/numpy.random.normal.html\n",
    "- Wikipedia, “Normal distribution”, https://en.wikipedia.org/wiki/Normal_distribution\n",
    "- https://www.w3schools.com/python/numpy_random_distribution.asp\n",
    "- https://wtmatter.com/numpy-normal-distribution/\n",
    "- https://www.kaggle.com/hamelg/python-for-data-22-probability-distributions\n",
    "\n",
    "\n",
    "<b>generator.normal(loc=0.0, scale=1.0, size=None)</b>\n",
    "\n",
    "The Normal function above is used to generate normal sample data from a normal distribution.\n",
    "\n",
    "The Normal Distribution is one of the most important distributions. It is also called the Gaussian Distribution after the German mathematician Carl Friedrich Gauss.\n",
    "\n",
    "##### Use -\n",
    "Normal distributions occur often in nature. For example, it describes the commonly occurring distribution of samples influenced by a large number of tiny, random disturbances, each with its own unique distribution. It also fits the probability distribution of many events, eg. IQ Scores, Heartbeat etc.  Many common statistical tests assume distributions are normal.\n",
    "\n",
    "##### Purpose \n",
    "The NumPy random normal function enables us to create a NumPy array that contains normally distributed data. \n",
    "Normal distributed data is shaped sort of like a bell, so it's often called the “bell curve\".\n",
    "\n",
    "The function has its peak at the mean, and its “spread” increases with the standard deviation\n",
    "This implies that normal is more likely to return samples lying close to the mean, rather than those far away.\n",
    "\n",
    "Parameters of the Normal Distribution function: \n",
    "- loc - the mean (\"centre\") of the distribution.  Mean refers to the average that is used to derive the central tendency of the data in question.\n",
    "- scale - standard deviation (spread or \"width\") of the distributioin. Must be non negative. statistical measure that captures the difference between the average and the outliers in a set of data. The standard deviation is a measure of how spread out numbers are.\n",
    "- size - output shape - If size is None (default), a single value is returned if loc and scale are both scalars."
   ]
  },
  {
   "cell_type": "markdown",
   "metadata": {},
   "source": [
    "##### Normal Distribution example\n",
    "In the examples below I am going to draw an exmaple of the following distribution:  mean of 0, standard deviation 0.1, and size output of 1000. Example 2 with mean of 2, standard deviation 0.1, and size output of 2000. I am also going to import the Seaborn package as Seaborn distplot will give us a better visual represenation of the output."
   ]
  },
  {
   "cell_type": "code",
   "execution_count": 14,
   "metadata": {},
   "outputs": [
    {
     "data": {
      "image/png": "[encoded data removed]",
      "text/plain": [
       "<Figure size 432x288 with 1 Axes>"
      ]
     },
     "metadata": {
      "needs_background": "light"
     },
     "output_type": "display_data"
    }
   ],
   "source": [
    "#import seaborn\n",
    "import seaborn as sns \n",
    "# define mean and standard deviation\n",
    "mu, sigma = 0, 0.1 \n",
    "#use the normal disbtribution function\n",
    "normal = rng.normal(mu,sigma,1000)\n",
    "# display using a seaborn displot\n",
    "sns.distplot(normal)\n",
    "#give the plot a title\n",
    "plt.title(\"Normal Distribution Example 1\")\n",
    "#display the plot          \n",
    "plt.show()"
   ]
  },
  {
   "cell_type": "code",
   "execution_count": 15,
   "metadata": {},
   "outputs": [
    {
     "data": {
      "image/png": "[encoded data removed]",
      "text/plain": [
       "<Figure size 432x288 with 1 Axes>"
      ]
     },
     "metadata": {
      "needs_background": "light"
     },
     "output_type": "display_data"
    }
   ],
   "source": [
    "# define mean and standard deviation\n",
    "mu, sigma = 2, 0.1 \n",
    "#use the normal disbtribution function\n",
    "normal = rng.normal(mu,sigma,2000)\n",
    "#we are going to plot using the seaborn displot\n",
    "sns.distplot(normal)\n",
    "#give the plot a title\n",
    "plt.title(\"Normal Distribution example 2\")\n",
    "#display the plot\n",
    "plt.show()"
   ]
  },
  {
   "cell_type": "markdown",
   "metadata": {},
   "source": [
    "As we can see in our examples above a Normal distribution displayed as a bell shaped curve and we can see that the majority of the values are distributed around 0 in first case and around 2 in second case as the Mean value in first example is equal to 0  and in second example - mean equal to 2"
   ]
  },
  {
   "cell_type": "markdown",
   "metadata": {},
   "source": [
    "### 2. Uniform Distribution\n",
    "\n",
    "References and Research:\n",
    "- https://www.w3schools.com/python/numpy_random_uniform.asp\n",
    "- https://numpy.org/doc/stable/reference/random/generated/numpy.random.Generator.uniform.html#numpy.random.Generator.uniform\n",
    "- https://mathworld.wolfram.com/UniformDistribution.html\n",
    "\n",
    "<b>Generator.uniform(low=0.0, high=1.0, size=None)</b>\n",
    "\n",
    "The Uniform function above is used to generate uniform samples from a uniform distribution.\n",
    "\n",
    "##### Uses \n",
    "\n",
    "The uniform distribution defines equal probability over a given range for a continuous distribution. For this reason, it is important as a reference distribution. One of the most important applications of the uniform distribution is in the generation of random numbers.\n",
    "\n",
    "##### Puropose \n",
    "Used to describe probability where every event has an equal change of occuring for example as in the generation of random numbers.\n",
    "\n",
    "Draw samples from a uniform distribution. Samples are uniformly distributed over the half-open interval [low, high) (includes low, but excludes high). Any value within the given interval is equally likely to be drawn by uniform.\n",
    "\n",
    "##### Parameters - \n",
    "\n",
    "- low - lower bound - default 0 .0\n",
    "- high - upper bound - default 1.0\n",
    "- size - The shape of the returned array. If size is None (default), a single value is returned if low and high are both scalars\n",
    "\n",
    "In the example below I am going to set -5 as the low value, 5 as the upper boundary of the output interval and 5000 as the output shape."
   ]
  },
  {
   "cell_type": "code",
   "execution_count": 16,
   "metadata": {},
   "outputs": [],
   "source": [
    "#going to define the range\n",
    "x = range(1000)\n",
    "#create a uniform distribution output\n",
    "y = rng.uniform(-1,0,1000)\n",
    "#print(y)"
   ]
  },
  {
   "cell_type": "code",
   "execution_count": 17,
   "metadata": {},
   "outputs": [
    {
     "data": {
      "image/png": "[encoded data removed]",
      "text/plain": [
       "<Figure size 432x288 with 1 Axes>"
      ]
     },
     "metadata": {
      "needs_background": "light"
     },
     "output_type": "display_data"
    }
   ],
   "source": [
    "#use a scatter plot from matplotlib alreade loaded\n",
    "plt.scatter(x,y)\n",
    "#give the plot a title\n",
    "plt.title(\"Uniform Distribution example\")\n",
    "#display the plot\n",
    "plt.show()"
   ]
  },
  {
   "cell_type": "markdown",
   "metadata": {},
   "source": [
    "In the above example we can see that by using numpy.random.uniform() method, we are able to get the random samples from uniform distribution and return the random samples in a uniform distribution. I decided on a scatter plot over a histogram as I felt it better visualised the distribution of the data for the same range and output value."
   ]
  },
  {
   "cell_type": "markdown",
   "metadata": {},
   "source": [
    "### 3. Logistic Distribution\n",
    "\n",
    "Research and References:\n",
    "\n",
    "- https://www.w3schools.com/python/numpy_random_logistic.asp\n",
    "Weisstein, Eric W. “Logistic Distribution.” From MathWorld–A Wolfram Web Resource. http://mathworld.wolfram.com/LogisticDistribution.html\n",
    "- Wikipedia, “Logistic-distribution”, http://en.wikipedia.org/wiki/Logistic-distribution\n",
    "- https://wtmatter.com/numpy-logistic-distribution/\n",
    "\n",
    "<b> generator.logistic(loc=0.0, scale=1.0, size=None)</b>\n",
    "\n",
    "The Logistic function above is used to generate random samples from a Logistic distribution.\n",
    "\n",
    "##### Purpose \n",
    "To Draw samples from a Logistic distribution. These distributions help us in describing the statistical growth of the data. It is known for predicting how the growth will happen by taking in certain data\n",
    "\n",
    "##### Uses \n",
    "Logistic Distributions are used in the fields of physics, logistic regression, hydrology and also machine learning and neural networks. The numpy.org offical website states that \"the Logistic distribution is used in Extreme Value problems where it can act as a mixture of Gumbel distributions, in Epidemiology, and by the World Chess Federation (FIDE) where it is used in the Elo ranking system, assuming the performance of each player is a logistically distributed random variable.\"\n",
    "\n",
    "It has 3 parameters:\n",
    "\n",
    "- loc - mean, where the peak is, the default is 0.\n",
    "- scale - standard deviation, the flatness of distribution, Defualt is 1\n",
    "- size - The shape of the returned array.\n",
    "\n",
    "In the following example i am going output an array with a size of 5 in a logistic distribution with a mean of 1 and a standard deviation of 2"
   ]
  },
  {
   "cell_type": "code",
   "execution_count": 18,
   "metadata": {},
   "outputs": [
    {
     "data": {
      "text/plain": [
       "<function matplotlib.pyplot.show(*args, **kw)>"
      ]
     },
     "execution_count": 18,
     "metadata": {},
     "output_type": "execute_result"
    },
    {
     "data": {
      "image/png": "[encoded data removed]",
      "text/plain": [
       "<Figure size 432x288 with 1 Axes>"
      ]
     },
     "metadata": {
      "needs_background": "light"
     },
     "output_type": "display_data"
    }
   ],
   "source": [
    "#get our sample random data from a logistic distribution\n",
    "sample = rng.logistic(loc=1, scale=2, size=5)\n",
    "#using a seaborn displot to display our data\n",
    "sns.distplot(sample, hist=False)\n",
    "#give a title\n",
    "plt.title(\"Logistic Distribution\")\n",
    "#display the plot\n",
    "plt.show"
   ]
  },
  {
   "cell_type": "markdown",
   "metadata": {},
   "source": [
    "### Looking at the Difference Between Logistic and Normal Distribution\n",
    "\n",
    "Both distributions are near identical, but logistic distribution tend to have more area under the tails. ie. It represents more possibility of an occurence of an event further away from mean."
   ]
  },
  {
   "cell_type": "code",
   "execution_count": 19,
   "metadata": {},
   "outputs": [
    {
     "data": {
      "image/png": "[encoded data removed]",
      "text/plain": [
       "<Figure size 432x288 with 1 Axes>"
      ]
     },
     "metadata": {
      "needs_background": "light"
     },
     "output_type": "display_data"
    }
   ],
   "source": [
    "#use a seanborn displot, label the plot for Logistic using sample data created above\n",
    "sns.distplot(sample, hist=False, label='Logistic Distribution')\n",
    "#uses a second seaborn displot to plot similar random data from normal distribution\n",
    "sns.distplot(rng.normal(1,2, size=500), hist=False, label='Normal Distribution')\n",
    "plt.show()"
   ]
  },
  {
   "cell_type": "markdown",
   "metadata": {},
   "source": [
    "For higher value of scale (standard deviation) the normal and logistic distributions are near identical apart from the peak."
   ]
  },
  {
   "cell_type": "markdown",
   "metadata": {},
   "source": [
    "###  4. Binomial Distribution\n",
    "\n",
    "Reserach and References:\n",
    "\n",
    "- https://www.w3schools.com/python/numpy_random_binomial.asp\n",
    "- https://www.statisticshowto.com/probability-and-statistics/binomial-theorem/binomial-distribution-formula/\n",
    "\n",
    "<b> Generator.binomial(n, p, size=None)</b>\n",
    "\n",
    "The Binomial function above is used to generate random samples from a binomial distribution.\n",
    "\n",
    "#### Uses\n",
    "\n",
    "Binomial Distribution is a Discrete Distribution. It describes the outcome of binary scenarios, e.g. toss of a coin, it will either be head or tails.\n",
    "\n",
    "##### Purpose -\n",
    "A binomial distribution can be thought of as simply the probability of a SUCCESS or FAILURE outcome in an experiment or survey that is repeated multiple times. The binomial is a type of distribution that has two possible outcomes (the prefix “bi” means two, or twice).\n",
    "\n",
    "##### Examples \n",
    "A coin toss has only two possible outcomes: heads or tails. Taking a test could have two possible outcomes: pass or fail.\n",
    "\n",
    "A Binomial distribution is a Discrete Distribition. A discrete distribution is a distribution of data in statistics that has discrete values. Discrete values are countable, finite, non-negative integers, such as 1, 10, 15, etc\n",
    "\n",
    "It has three parameters:\n",
    "\n",
    "- n - number of trials.\n",
    "- p - probability of occurence of each trial\n",
    "- size - The shape of the returned array.\n",
    "\n",
    "In the example below I am going to do a coin toss example \n",
    "So we are going to toss a coin 10 times , output the return, repeat 1,000 timees and visualise it - we are goint to leave the probablity here at .5 which equates to a 50 50 change i.e a fair flip"
   ]
  },
  {
   "cell_type": "code",
   "execution_count": 20,
   "metadata": {},
   "outputs": [],
   "source": [
    "#use the binomial function from numpy.random defined as rng above\n",
    "x = rng.binomial(n=10, p=0.5, size = 1000)"
   ]
  },
  {
   "cell_type": "code",
   "execution_count": 21,
   "metadata": {},
   "outputs": [
    {
     "data": {
      "image/png": "[encoded data removed]",
      "text/plain": [
       "<Figure size 432x288 with 1 Axes>"
      ]
     },
     "metadata": {
      "needs_background": "light"
     },
     "output_type": "display_data"
    }
   ],
   "source": [
    "#create displot\n",
    "plt.hist(x)\n",
    "#add title\n",
    "plt.title (\"Binomial Distribtution - fair coin flip\")\n",
    "#add xlabel\n",
    "plt.xlabel (\"Number of Heads\")\n",
    "#add ylabel\n",
    "plt.ylabel (\"Frequency\")\n",
    "#show graph\n",
    "plt.show()"
   ]
  },
  {
   "cell_type": "markdown",
   "metadata": {},
   "source": [
    "So in my experiment above and displayed visually in my plot are the result is if we are to toss a coin 10 times (n) and repeat that test 1,000 times (size) - the graph shows us that a binomial distribution with a 50% probability of sucess is roughly symmetric with the most likley outcomes lying at the centre."
   ]
  },
  {
   "cell_type": "code",
   "execution_count": 22,
   "metadata": {},
   "outputs": [
    {
     "data": {
      "image/png": "[encoded data removed]",
      "text/plain": [
       "<Figure size 432x288 with 1 Axes>"
      ]
     },
     "metadata": {
      "needs_background": "light"
     },
     "output_type": "display_data"
    }
   ],
   "source": [
    "x2 = rng.binomial(n=10, p=0.8, size = 1000)\n",
    "#create the histogram using a matplotlib histogram\n",
    "plt.hist(x2)\n",
    "#add title\n",
    "plt.title (\"Binomial Distribtution - Biased coin flip\")\n",
    "#add xlabel\n",
    "plt.xlabel (\"Number of Heads\")\n",
    "#add ylabel\n",
    "plt.ylabel (\"Frequency\")\n",
    "#show graph\n",
    "plt.show()"
   ]
  },
  {
   "cell_type": "markdown",
   "metadata": {},
   "source": [
    "Now in the example above we have the probability at .8 (80%) that the result will be a head and from the histrogram we cna see the output is now biased to the higher return of the number of heads returned."
   ]
  },
  {
   "cell_type": "markdown",
   "metadata": {},
   "source": [
    "### Difference Between Normal and Binomial Distribution \n",
    "\n",
    "The main difference is that normal distribution is continous whereas binomial is discrete, but if there are enough data points it will be quite similar to normal distribution with certain loc and scale as shown in the example below. Reference https://www.w3schools.com/python/numpy_random_binomial.asp"
   ]
  },
  {
   "cell_type": "markdown",
   "metadata": {},
   "source": [
    "### 5. Poisson  Distribution\n",
    "\n",
    "Research and References:\n",
    "\n",
    "- https://brilliant.org/wiki/poisson-distribution/\n",
    "- https://towardsdatascience.com/poisson-distribution-intuition-and-derivation-1059aeab90d\n",
    "- https://www.statisticshowto.com/poisson-distribution/\n",
    "- https://brilliant.org/wiki/poisson-distribution/\n",
    "\n",
    "<b>generator.poisson(lam=1.0, size=None)</b> - Draw samples from a Poisson distribution.\n",
    "\n",
    "\n",
    "##### Purpose\n",
    "The Poisson function above is used to generate random samples from a Poisson distribution.\n",
    "\n",
    "A Poisson Distribution is a Discrete Distribution. It estimates how many times an event can happen in a specified time. e.g. If someone eats twice a day what is probability he will eat three times? It gives us the probability of a given number of events happening in a fixed interval of time. \n",
    "\n",
    "##### Uses\n",
    "\n",
    "This tool can be very useful for Businesses as they are able to estimate the time when demand is unusually higher, so they can purchase more stock, hire more staff etc In addition, waste of resources is prevented. It can also be used to describe the distribution of rate events in a large population. It also has applications in Biology especially mutation detection finance, disaster readiness, and any other situation in which events are time-independent. \n",
    "\n",
    "The Poisson function has two parameters \n",
    "\n",
    "- lam - rate or known number of occurences e.g. 2 for above problem.\n",
    "- size - The shape of the returned array.\n",
    "\n",
    "In the example below i want to look at the proablility of how many times someone will vist my website over a year - i know my esitmate or know figure is 10 visits and i want to look at the probablity of them visting more - ie 12,50 etc"
   ]
  },
  {
   "cell_type": "code",
   "execution_count": 23,
   "metadata": {},
   "outputs": [
    {
     "data": {
      "image/png": "[encoded data removed]",
      "text/plain": [
       "<Figure size 432x288 with 1 Axes>"
      ]
     },
     "metadata": {
      "needs_background": "light"
     },
     "output_type": "display_data"
    }
   ],
   "source": [
    "#v is estimated or predicted number of visitors in 365 days\n",
    "v = 10\n",
    "#numpy function for poisson distribution using generator already defined\n",
    "x = rng.poisson(v, size = 365)\n",
    "#using  seaborn displot as my visual graph\n",
    "ax = sns.distplot((x), kde = False)\n",
    "#setting my title\n",
    "ax.set_title(\"Poisson Distribution Example\")\n",
    "#setting my x axis title\n",
    "ax.set_xlabel(\"Website Traffic\")\n",
    "#show the plot\n",
    "plt.show()"
   ]
  },
  {
   "cell_type": "markdown",
   "metadata": {},
   "source": [
    "Ae we can see from the histogram above, we already know the the probability or likelyhood that each visitor will visit at least 10 times in the year - with the highest probabilty in around 8 visits per year. As displayed above the probabilty of someone visiting more often declines the higher the expectation if them visiting more often etc"
   ]
  },
  {
   "cell_type": "markdown",
   "metadata": {},
   "source": [
    "## Task 4 \n",
    "\n",
    "### Explain the use of Seeds in Generating Pseudorandom Numbers\n",
    "\n",
    "Research and References:\n",
    "\n",
    "- https://www.pcg-random.org/\n",
    "- https://www.cs.hmc.edu/tr/hmc-cs-2014-0905.pdf\n",
    "- https://www.pcg-random.org/\n",
    "- https://stackoverflow.com/questions/63081108/how-can-i-store-and-restore-random-state-in-numpy-random-generator-instances\n",
    "- https://numpy.org/doc/stable/reference/random/bit_generators/pcg64.htm\n",
    "- https://www.sharpsightlabs.com/blog/numpy-random-seed/\n",
    "- https://en.wikipedia.org/wiki/Random_seed\n",
    "- https://www.researchgate.net/post/Can_someone_explain_what_is_seed_in_generating_a_random_number\n",
    "\n",
    "\n",
    "There’s a fundamental problem when using computers to simulate or work with random processes - that is computers are completely deterministic, not random.\n",
    "\n",
    "So if you give a computer a certain input, it will precisely follow instructions to produce an output. If the input is the same, then the output will be the same.\n",
    "\n",
    "Therefore it’s very difficult to create truly “random” numbers on a computer. \n",
    "\n",
    "Computers need some sort of mechanism to generate random number. Computers get around this by using pseudo-random number generators.\n",
    "\n",
    "##### Pseudo-random numbers are computer generated numbers that appear random, but are actually predetermined.\n",
    "\n",
    "In order to work properly, pseudo-random number generators require a starting input. We call this starting input a “seed.”.\n",
    "\n",
    "<b>Why use seeds?</b> - Progammmers would  often want to set a seed so that the same range of values etc are returned for testing their code for consistency \n",
    "\n",
    "### New in Numpy v 1.19\n",
    "\n",
    "#### Benefits of using the PCG64 algorithm over the Merseene Twister algorithm for generating seeds\n",
    "\n",
    "In the new version of the Numpy package version 1.19 amd greater the way of generating seeds has changed from the Merseene Twister method to a new algorithm called PCG64. This new algoritm is called a Permuted Congruential Generator (64 Bit PCG 64)\n",
    "\n",
    "####  How does the new PCG64 algorithm outperform the old algorithm \n",
    "\n",
    "- PCG64 makes a guarantee that a fixed seed and will always produce the same random integer stream.\n",
    "- PCG-64 - is the default bit generator for seeding. A fast generator that supports many parallel streams and can be advanced by an arbitrary amount. \n",
    "- PCG is a family of simple fast space-efficient statistically good algorithms for random number generation. Unlike many general-purpose RNGs, they are also hard to predict\n",
    "\n",
    "Ive taking the following examples from the website https://www.pcg-random.org/ which outlines exactly why the PCG 64 algorithm is better\n",
    "\n",
    "- It's really easy to use, and yet its very flexible and offers powerful features\n",
    "- It's very fast, and can occupy very little space\n",
    "- It has small code size\n",
    "- It's much less predictable and thus more secure than most generators\n",
    "- It's open source software, with a permissive license (the Apache license)\n",
    "\n",
    "On the above website there is also a very useful chart comparing the benefits of the PCG family of alogrithms over others and below is a sreen shot of the PCG Family versus the Mersenne Twister algorithm used in previous version of NumPy."
   ]
  },
  {
   "cell_type": "markdown",
   "metadata": {},
   "source": [
    "### Explaining the use of Seeds and some testing \n",
    "\n",
    "Note to be honest I found this task very difficult as the majority of the examples, code etc on the internet etc relates to the older methods of pseudo-random number generators and setting the seed without the use of the default bit generator. \n",
    "##### I will firstly start off by explaining the older method in seeting the seed when generating random number\n",
    "So we are going to generate random numbers by not setting a seed and the other with setting/defining the seed value"
   ]
  },
  {
   "cell_type": "code",
   "execution_count": 24,
   "metadata": {},
   "outputs": [
    {
     "name": "stdout",
     "output_type": "stream",
     "text": [
      "Value Using no seed 0.7166945099396713\n",
      "Value Using no seed  0.043983959534490635\n"
     ]
    }
   ],
   "source": [
    "# generate 2 random numbers with no seed value set\n",
    "print (\"Value Using no seed\",np.random.rand())\n",
    "print (\"Value Using no seed \",np.random.rand())"
   ]
  },
  {
   "cell_type": "code",
   "execution_count": 25,
   "metadata": {},
   "outputs": [
    {
     "name": "stdout",
     "output_type": "stream",
     "text": [
      "with seed set 0.771320643266746\n",
      "with seed set 0.771320643266746\n"
     ]
    }
   ],
   "source": [
    "#now we will set the seed and generate two more random numbers\n",
    "np.random.seed(10)\n",
    "print (\"with seed set\",np.random.rand())\n",
    "np.random.seed(10)\n",
    "print (\"with seed set\", np.random.rand())"
   ]
  },
  {
   "cell_type": "markdown",
   "metadata": {},
   "source": [
    "As we can see above the last two numbers are the same as the seed has been set but the first two where no seed has been set are not the same and the probability of them every been the same is highly unlikely."
   ]
  },
  {
   "cell_type": "markdown",
   "metadata": {},
   "source": [
    "##### Newer method: In the example below we are going to set a seed so we have reproduceable results"
   ]
  },
  {
   "cell_type": "code",
   "execution_count": 26,
   "metadata": {},
   "outputs": [
    {
     "name": "stdout",
     "output_type": "stream",
     "text": [
      "Generator(PCG64)\n",
      "14\n"
     ]
    }
   ],
   "source": [
    "#set the seed value\n",
    "seed = 14\n",
    "#print values for testing and visual \n",
    "print(rng)\n",
    "print (seed)"
   ]
  },
  {
   "cell_type": "code",
   "execution_count": 31,
   "metadata": {},
   "outputs": [
    {
     "name": "stdout",
     "output_type": "stream",
     "text": [
      "[15 83 65 36  8]\n"
     ]
    }
   ],
   "source": [
    "#pass the seed to the default bit generator \n",
    "rng = np.random.default_rng(seed)\n",
    "#create 5 random integers between 0 -100\n",
    "arr1 = rng.integers(0,100,5)\n",
    "#display output\n",
    "print (arr1)"
   ]
  },
  {
   "cell_type": "markdown",
   "metadata": {},
   "source": [
    "Now lets see if we re-run our code and create a second arry of 5 randomly generated numbers will we get the same results  (fingers crossed)"
   ]
  },
  {
   "cell_type": "code",
   "execution_count": 34,
   "metadata": {},
   "outputs": [
    {
     "name": "stdout",
     "output_type": "stream",
     "text": [
      "[15 83 65 36  8]\n"
     ]
    }
   ],
   "source": [
    "#pass the seed to the default bit generator\n",
    "rng = np.random.default_rng(seed)\n",
    "#create 5 random integers between 0 -100\n",
    "arr2 = rng.integers(0,100,5)\n",
    "#display output\n",
    "print (arr2)"
   ]
  },
  {
   "cell_type": "markdown",
   "metadata": {},
   "source": [
    "As we can see above the code has produced the same integers when we use the same seed.\n",
    "In conclusion if we give the algorithm for the  Pseudo Random Number generator the same input we will get the same output which is very useful for programmers to test their code and output."
   ]
  },
  {
   "cell_type": "markdown",
   "metadata": {},
   "source": [
    "## Assignment Conclusion\n",
    "\n",
    "I did find the assignment alot harder than I initally imagined. The recent changes to the Numpy library made it extra difficult in that the majoirty of the research, code and help tutorials on the internet still relate to older versions of numpy. This resulted in me spending more time on research than on coding.\n",
    "\n",
    "However I have gained a lot of knowlege on the Numpy library the numpy.random subpackage and the use of the various functions involved. I would have liked to have had more time to test out the code etc and play around with some graphs etc but the assignment has now given me the basis to do this. It has also proven useful to have had the chanc to use the newer version of Numpy and it has opending my eyes to how important it is for a programmer to keep up to date with changes to the code and libraries used.\n",
    "\n",
    "Thank you\n",
    "\n",
    "Brendan Ryan"
   ]
  },
  {
   "cell_type": "code",
   "execution_count": null,
   "metadata": {},
   "outputs": [],
   "source": []
  }
 ],
 "metadata": {
  "kernelspec": {
   "display_name": "Python 3",
   "language": "python",
   "name": "python3"
  },
  "language_info": {
   "codemirror_mode": {
    "name": "ipython",
    "version": 3
   },
   "file_extension": ".py",
   "mimetype": "text/x-python",
   "name": "python",
   "nbconvert_exporter": "python",
   "pygments_lexer": "ipython3",
   "version": "3.8.3"
  }
 },
 "nbformat": 4,
 "nbformat_minor": 2
}
