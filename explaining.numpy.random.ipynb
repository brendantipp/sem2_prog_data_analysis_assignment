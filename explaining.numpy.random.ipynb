{
 "cells": [
  {
   "cell_type": "markdown",
   "metadata": {},
   "source": [
    "# explaining.numpy.random\n",
    "### Brendan Ryan GMIT Semester 2 Programming for Data Analysis Assignment"
   ]
  },
  {
   "cell_type": "markdown",
   "metadata": {},
   "source": [
    "### 1. Explain the overall purpose of the numpy.random package\n",
    "\n",
    "#### Lets start by explaining what is Numpy its purpose  and why we use it\n",
    "\n",
    "NumPy is a pyton library used for working with arrays, it was created in 2005 by Travis Oliphant. It is an open source projet and you can use if freely, NumPy stands for Numerical Python.\n",
    "\n",
    "NumPy is the fundamental package for scientific computing in Python. It is a Python library that provides a multidimensional array object, various derived objects (such as masked arrays and matrices), and an assortment of routines for fast operations on arrays, including mathematical, logical, shape manipulation, sorting, selecting, I/O, discrete Fourier transforms, basic linear algebra, basic statistical operations, random simulation and much more. \n",
    "\n",
    "At the core of the NumPy package, is the ndarray object. This encapsulates n-dimensional arrays of homogeneous data types, with many operations being performed in compiled code for performance source - - source https://docs.scipy.org/doc/numpy-1.15.1/user/whatisnumpy.html\n",
    "\n",
    "Why we use Numpy \"its quick and efficient\"- in python we have listss that server the purpose of arrays, however are slow to proecss - Numpy aims to providig an array object that is 50 times faster than traditional python lists and is more efficient !!! NumPy arrays are store in one continous place in memory and Numpy lists are optimized to work with the latest CPU achitectures.\n",
    "\n",
    "W3schools.com gives an nice easy explanation https://www.w3schools.com/python/numpy_intro.asp\n"
   ]
  },
  {
   "cell_type": "code",
   "execution_count": 35,
   "metadata": {},
   "outputs": [
    {
     "name": "stdout",
     "output_type": "stream",
     "text": [
      "1.18.5\n"
     ]
    }
   ],
   "source": [
    "#we can import the numpy module as follows using np to give a shortened name to the package for ease of use\n",
    "import numpy as np\n",
    "print (np.version.version)"
   ]
  },
  {
   "cell_type": "markdown",
   "metadata": {},
   "source": [
    "#### Tell me more about the  numpy.random package \n",
    "\n",
    "NumPy offers the random moudle to work with random numbers - random is a subpackage of Numpy and is available in the numpy library\n",
    "The module contains the functions which are used for generarting random numbers. The module contains some simple random data generation\n",
    "methods, some premutation and distribution functions , and random generator functions."
   ]
  },
  {
   "cell_type": "markdown",
   "metadata": {},
   "source": [
    "There have been some very important updates to the Numpy.Random package in the last 12 months and these changes are particualt important for software developers to keep up to date with - more details on this change is contained in teh README"
   ]
  },
  {
   "cell_type": "markdown",
   "metadata": {},
   "source": [
    "## Explain the use of the \"Simple random data\" and \"Permutations\" functions"
   ]
  },
  {
   "cell_type": "markdown",
   "metadata": {},
   "source": [
    "Within the numpy.random subpackage there are a number of fucntions and these can be broken down into Simple Random Data functions, Permutations funcitons, Distribution functions and Seed functions.\n",
    "\n",
    "### Simple random data functions\n",
    "\n",
    "These functions allow us to define sequences and arryas of integers  random real values, choice to generate a random sample from a give 1 dimesional array and bytes to return radmom bytes. It is worth noting the simple random data fucnitons have been revised and condensed in the newer versin of the numpy.random package."
   ]
  },
  {
   "cell_type": "markdown",
   "metadata": {},
   "source": [
    "#### Using the integers function\n",
    "- format - integers(low[, high, size, dtype, endpoint])\n",
    "- escription - Return random integers from low (inclusive) to high (exclusive), or if endpoint=True, low (inclusive) to high (inclusive)."
   ]
  },
  {
   "cell_type": "code",
   "execution_count": 34,
   "metadata": {},
   "outputs": [],
   "source": [
    "# The function numpy.random.default_rng will instantiate a Generator with numpy’s default BitGenerator.\n",
    "# https://numpy.org/devdocs/reference/random/generator.html#numpy.random.default_rng\n",
    "rng = np.random.default_rng()"
   ]
  },
  {
   "cell_type": "code",
   "execution_count": 33,
   "metadata": {},
   "outputs": [
    {
     "data": {
      "text/plain": [
       "array([4, 2, 0, 2, 0, 3, 1, 1, 3, 4, 3, 0, 1, 0, 0, 2, 3, 1, 1, 2],\n",
       "      dtype=int64)"
      ]
     },
     "execution_count": 33,
     "metadata": {},
     "output_type": "execute_result"
    }
   ],
   "source": [
    "#i want to create a array named sample to return 20 values up to but not including 5\n",
    "sample = rng.integers(5, size =20)\n",
    "sample"
   ]
  },
  {
   "cell_type": "markdown",
   "metadata": {},
   "source": [
    "So we can see from above that in our first example that an array with 20 values (size =  20) has been created for values up to but not including 5"
   ]
  },
  {
   "cell_type": "markdown",
   "metadata": {},
   "source": [
    "We can visualise the above by usig a Histogram to see how many times each integer has been returned"
   ]
  },
  {
   "cell_type": "code",
   "execution_count": 4,
   "metadata": {},
   "outputs": [
    {
     "data": {
      "text/plain": [
       "Text(0, 0.5, 'times appearing')"
      ]
     },
     "execution_count": 4,
     "metadata": {},
     "output_type": "execute_result"
    },
    {
     "data": {
      "image/png": "[encoded data removed]",
      "text/plain": [
       "<Figure size 432x288 with 1 Axes>"
      ]
     },
     "metadata": {
      "needs_background": "light"
     },
     "output_type": "display_data"
    }
   ],
   "source": [
    "# import the matplotlib library\n",
    "%matplotlib inline\n",
    "import matplotlib.pyplot as plt\n",
    "\n",
    "plt.hist(sample)\n",
    "plt.title(\"sample data\")\n",
    "plt.xlabel(\"value\")\n",
    "plt.ylabel(\"times appearing\")"
   ]
  },
  {
   "cell_type": "code",
   "execution_count": 5,
   "metadata": {},
   "outputs": [
    {
     "data": {
      "text/plain": [
       "array([[1, 4, 1, 4, 4, 4, 2, 0, 4, 0, 4, 2, 2, 0, 4, 4, 1, 2, 4, 4],\n",
       "       [2, 2, 3, 1, 3, 2, 2, 4, 3, 3, 2, 3, 0, 4, 2, 0, 4, 0, 4, 2]],\n",
       "      dtype=int64)"
      ]
     },
     "execution_count": 5,
     "metadata": {},
     "output_type": "execute_result"
    }
   ],
   "source": [
    "# we are going to add a tuple of integers to the size to determine the shape\n",
    "#below we want to retun to arrays containing 20 values\n",
    "sample = rng.integers(5,size =(2,20))\n",
    "sample"
   ]
  },
  {
   "cell_type": "markdown",
   "metadata": {},
   "source": [
    "And now what I have is a multidimentional array with 2 arrays containing 20 values/elements"
   ]
  },
  {
   "cell_type": "code",
   "execution_count": 6,
   "metadata": {},
   "outputs": [
    {
     "data": {
      "text/plain": [
       "array([[81, 95, 38, 49, 93, 48, 50, 35, 86, 71, 90, 65, 55, 79, 38, 89,\n",
       "        90, 32, 29, 15],\n",
       "       [39, 96, 36, 81, 32, 86, 56, 49, 20, 76, 90, 90, 98, 15, 24, 56,\n",
       "        88, 49, 60, 49]], dtype=int64)"
      ]
     },
     "execution_count": 6,
     "metadata": {},
     "output_type": "execute_result"
    }
   ],
   "source": [
    "#speicify the low and high values of the sample data i want generatede\n",
    "sample = rng.integers(low=10,high=100,size =(2,20))\n",
    "sample"
   ]
  },
  {
   "cell_type": "markdown",
   "metadata": {},
   "source": [
    "what I have done is specified the low and high numbers that of the sample data i want generated - from 10 to 100 not including 1000, becuase i have not passed a value i can see the defualt value type is dtype=int64"
   ]
  },
  {
   "cell_type": "markdown",
   "metadata": {},
   "source": [
    "#### Using the random function\n",
    "- Format of function - random([size, dtype, out])\n",
    "- Descrioption of parameters - Return random floats in the half-open interval [0.0, 1.0)"
   ]
  },
  {
   "cell_type": "code",
   "execution_count": 7,
   "metadata": {},
   "outputs": [
    {
     "name": "stdout",
     "output_type": "stream",
     "text": [
      "0.2230500693582016\n"
     ]
    },
    {
     "data": {
      "text/plain": [
       "float"
      ]
     },
     "execution_count": 7,
     "metadata": {},
     "output_type": "execute_result"
    }
   ],
   "source": [
    "# if passed no value will return a random floating number between 0.0 and 1.00\n",
    "sample = rng.random()\n",
    "print (sample)\n",
    "#we can see the class for the value returned by using the folowing \n",
    "type(sample)"
   ]
  },
  {
   "cell_type": "code",
   "execution_count": 8,
   "metadata": {},
   "outputs": [
    {
     "name": "stdout",
     "output_type": "stream",
     "text": [
      "[0.27034635 0.44573572 0.39024194 0.92310752 0.78508789 0.47670208\n",
      " 0.28467912 0.42404787 0.75516039 0.28154384]\n"
     ]
    }
   ],
   "source": [
    "# we can determine the size of the array returned by using the size parameter in this case we want 10 values returned\n",
    "\n",
    "sample = rng.random(10)\n",
    "print (sample)"
   ]
  },
  {
   "cell_type": "markdown",
   "metadata": {},
   "source": [
    "#### Using the Choice function \n",
    "- format - choice(a[, size, replace, p, axis, shuffle])\n",
    "- Description of parameters - Generates a random sample from a given 1-D array\n",
    "- Purpose - Generates a random sample from a given 1-D array"
   ]
  },
  {
   "cell_type": "markdown",
   "metadata": {},
   "source": [
    "So here i will generate a random sample of 6 values (size =6) from the range 43 0-42 not inclusive of 43\n",
    "The return will be a uniform random sample - i could use this wanted to pick 6 numbers in the lotto from 42 numbers\n",
    "In this example it is very imporant to pass teh false parameter to repale as we dont want the same number appearint twice!"
   ]
  },
  {
   "cell_type": "code",
   "execution_count": 9,
   "metadata": {},
   "outputs": [
    {
     "data": {
      "text/plain": [
       "array([ 3, 11, 21, 26,  8, 28], dtype=int64)"
      ]
     },
     "execution_count": 9,
     "metadata": {},
     "output_type": "execute_result"
    }
   ],
   "source": [
    "#range up to 43 and return 6 values each to appear only once \n",
    "rng.choice(43,size = 6, replace=False)"
   ]
  },
  {
   "cell_type": "markdown",
   "metadata": {},
   "source": [
    "I can also define the  p parameter  to create a non uniform sample - defining p defines the probabilities associated with each entry in a (note the probabilities defined need to sum to 1, in example belwo i want the return to be two values up to but not including 6"
   ]
  },
  {
   "cell_type": "code",
   "execution_count": 10,
   "metadata": {},
   "outputs": [
    {
     "data": {
      "text/plain": [
       "array([0, 3], dtype=int64)"
      ]
     },
     "execution_count": 10,
     "metadata": {},
     "output_type": "execute_result"
    }
   ],
   "source": [
    "rng.choice(6,size =2, p=[0.1,0.2,0.2,0.3,0.1,0.1])"
   ]
  },
  {
   "cell_type": "markdown",
   "metadata": {},
   "source": [
    "#### Using The Bytes function\n",
    "format - bytes(length)\n",
    "desciption of parameters - Generator.bytes(length)\n",
    "Purpose - Return random bytes."
   ]
  },
  {
   "cell_type": "code",
   "execution_count": 11,
   "metadata": {},
   "outputs": [
    {
     "data": {
      "text/plain": [
       "b\"Y\\xfeXM'F\""
      ]
     },
     "execution_count": 11,
     "metadata": {},
     "output_type": "execute_result"
    }
   ],
   "source": [
    "#so in the example below i want to create radom bytes in teh range to lenght of an integer 6\n",
    "np.random.default_rng().bytes(6)"
   ]
  },
  {
   "cell_type": "markdown",
   "metadata": {},
   "source": [
    "## Permutations Functions \n",
    "There are two permuation functions that are available to us\n",
    "\n",
    "- the shuffle function\n",
    "- the permutaion function.\n",
    "\n",
    "Shuffle function - modifies a sequence in place by shuffing its contents \n",
    "permutation function - always returns a shuffed version of the original sequence"
   ]
  },
  {
   "cell_type": "markdown",
   "metadata": {},
   "source": [
    "A permutation refers to an arrangement of elements for example [3,2,1] is a permutation of [1,2,3] and visa versa\n",
    "\n",
    "Shuffle function - used to change arrangements of elements in place i.e. the array itself, in the example below shuffle the array below "
   ]
  },
  {
   "cell_type": "code",
   "execution_count": 12,
   "metadata": {},
   "outputs": [
    {
     "name": "stdout",
     "output_type": "stream",
     "text": [
      "shuffled array [5 2 1 4 6 3]\n"
     ]
    },
    {
     "data": {
      "text/plain": [
       "array([5, 2, 1, 4, 6, 3])"
      ]
     },
     "execution_count": 12,
     "metadata": {},
     "output_type": "execute_result"
    }
   ],
   "source": [
    "# The shuffle() method makes changes to the original array.\n",
    "arr1 = np.array([1, 2, 3, 4, 5,6])\n",
    "np.random.shuffle(arr1)\n",
    "print(\"shuffled array\",arr1)\n",
    "#check has it made changes to original array\n",
    "arr1"
   ]
  },
  {
   "cell_type": "markdown",
   "metadata": {},
   "source": [
    "The Permutation function - Generates a random permutation of elements in an array. The original array stays un changed as tested below"
   ]
  },
  {
   "cell_type": "code",
   "execution_count": 13,
   "metadata": {},
   "outputs": [
    {
     "name": "stdout",
     "output_type": "stream",
     "text": [
      "shuffled array [3 4 5 6 1 2]\n",
      "original array [1 2 3 4 5 6]\n"
     ]
    }
   ],
   "source": [
    "arr2 = np.array([1, 2, 3, 4, 5,6])\n",
    "print(\"shuffled array\",np.random.permutation(arr2))\n",
    "#check to see is the array still in its original order \n",
    "print(\"original array\",arr2)"
   ]
  },
  {
   "cell_type": "markdown",
   "metadata": {},
   "source": [
    "As we can see from the example above the permuation fucntion returns a shuffled return of the array but always leaves the riginal array in order."
   ]
  },
  {
   "cell_type": "markdown",
   "metadata": {},
   "source": [
    "## Task 3\n",
    "\n",
    "###  Distribution Functions \n",
    "\n",
    "What is Data Distribution?\n",
    "\n",
    "Data Distribution is a list of all possible values, and how often each value occurs.\n",
    "\n",
    "Such lists are important when working with statistics and data science.\n",
    "\n",
    "The random module offer methods that returns randomly generated data distributions.\n",
    "\n",
    "Distribution functions - based on differnet probablity distributions - the best way to visual thes are with graphs\n",
    "\n",
    "\n",
    "\n",
    "https://numpy.org/doc/stable/reference/random/generated/numpy.random.normal.html\n",
    "Wikipedia, “Normal distribution”, https://en.wikipedia.org/wiki/Normal_distribution\n",
    "\n",
    "### Normal Distribution\n",
    "\n",
    "numpy.random.normal(loc=0.0, scale=1.0, size=None)\n",
    "\n",
    "The Normal Distribution is one of the most important distributions. It is also called the Gaussian Distribution after the German mathematician Carl Friedrich Gauss. It fits the probability distribution of many events, eg. IQ Scores, Heartbeat etc. The curve of a Normal Distribution is also known as the Bell Curve because of the bell-shaped curve\n",
    "\n",
    "(insert image of bell shaped curve)\n",
    "\n",
    "\n",
    "Uniform\n",
    "Logistic\n",
    "Binomial\n",
    "Exponential\n",
    "Gamma\n"
   ]
  },
  {
   "cell_type": "markdown",
   "metadata": {},
   "source": [
    "## Task 4 \n",
    "Explain the use of seeds in generating pseudorandom numbers\n",
    "\n",
    "There’s a fundamental problem when using computers to simulate or work with random processes. \n",
    "That is computers are completely deterministic, not random.\n",
    "Setting aside some rare exceptions, computers are deterministic by their very design. So if you give a computer a certain input, it will precisely follow instructions to produce an output.\n",
    "If the input is the same, then the output will be the same. - THAT’S HOW COMPUTERS WORK.\n",
    "Therefor it’s very difficult to create truly “random” numbers on a computer. Computers get around this by using pseudo-random number generators\n",
    "Pseudo-random numbers are computer generated numbers that appear random, but are actually predetermined\n",
    "We use np.random.seed when we need to generate random numbers or mimic random processes in NumPy.\n",
    "\n",
    "In order to work properly, pseudo-random number generators require a starting input. We call this starting input a “seed.”.\n",
    "\n",
    "We have already imported the NumPy package above but just a recap to load the Numpy libraary \n",
    "    #import numpy as np (as before its common pratice to use np as the nickname)\n"
   ]
  },
  {
   "cell_type": "markdown",
   "metadata": {},
   "source": [
    "Test 1 - we are going to generate a random number between 0 and 1 using the numpy.random.random fucntion\n",
    "We can set the set at any number we wish but for testing we will set to 0"
   ]
  },
  {
   "cell_type": "code",
   "execution_count": 40,
   "metadata": {},
   "outputs": [
    {
     "data": {
      "text/plain": [
       "0.14736147552082524"
      ]
     },
     "execution_count": 40,
     "metadata": {},
     "output_type": "execute_result"
    }
   ],
   "source": [
    "#using the random.seed function and set seed to 0\n",
    "np.random.seed(0)\n",
    "#as explained earlier the np.random.random\n",
    "rng.random()"
   ]
  },
  {
   "cell_type": "markdown",
   "metadata": {},
   "source": [
    "The output is a float with\n",
    "a decimal number between 0 and 1"
   ]
  },
  {
   "cell_type": "code",
   "execution_count": 41,
   "metadata": {},
   "outputs": [
    {
     "data": {
      "text/plain": [
       "0.11170328204874447"
      ]
     },
     "execution_count": 41,
     "metadata": {},
     "output_type": "execute_result"
    }
   ],
   "source": [
    "#using the random.seed function and set seed to 0\n",
    "np.random.seed(0)\n",
    "#as explained earlier the np.random.random\n",
    "rng.random()"
   ]
  },
  {
   "cell_type": "code",
   "execution_count": null,
   "metadata": {},
   "outputs": [],
   "source": []
  }
 ],
 "metadata": {
  "kernelspec": {
   "display_name": "Python 3",
   "language": "python",
   "name": "python3"
  },
  "language_info": {
   "codemirror_mode": {
    "name": "ipython",
    "version": 3
   },
   "file_extension": ".py",
   "mimetype": "text/x-python",
   "name": "python",
   "nbconvert_exporter": "python",
   "pygments_lexer": "ipython3",
   "version": "3.8.3"
  }
 },
 "nbformat": 4,
 "nbformat_minor": 2
}
